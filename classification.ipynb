{
 "cells": [
  {
   "cell_type": "markdown",
   "metadata": {},
   "source": [
    "Phase 1: Classification\n",
    "\n",
    "we want to train a classifier that can predict if a sub-cube of the hydrodynamic box is empty or not."
   ]
  },
  {
   "cell_type": "code",
   "execution_count": 3,
   "metadata": {},
   "outputs": [
    {
     "name": "stdout",
     "output_type": "stream",
     "text": [
      "F:\\data\n"
     ]
    }
   ],
   "source": [
    "cd \"F:\\data\"\n"
   ]
  },
  {
   "cell_type": "code",
   "execution_count": 4,
   "metadata": {},
   "outputs": [
    {
     "name": "stdout",
     "output_type": "stream",
     "text": [
      "(121209, 3)\n"
     ]
    },
    {
     "data": {
      "text/html": [
       "<div>\n",
       "<style scoped>\n",
       "    .dataframe tbody tr th:only-of-type {\n",
       "        vertical-align: middle;\n",
       "    }\n",
       "\n",
       "    .dataframe tbody tr th {\n",
       "        vertical-align: top;\n",
       "    }\n",
       "\n",
       "    .dataframe thead th {\n",
       "        text-align: right;\n",
       "    }\n",
       "</style>\n",
       "<table border=\"1\" class=\"dataframe\">\n",
       "  <thead>\n",
       "    <tr style=\"text-align: right;\">\n",
       "      <th></th>\n",
       "      <th>x</th>\n",
       "      <th>y</th>\n",
       "      <th>z</th>\n",
       "    </tr>\n",
       "  </thead>\n",
       "  <tbody>\n",
       "    <tr>\n",
       "      <th>0</th>\n",
       "      <td>900.425293</td>\n",
       "      <td>26286.689453</td>\n",
       "      <td>18321.949219</td>\n",
       "    </tr>\n",
       "    <tr>\n",
       "      <th>1</th>\n",
       "      <td>181.120392</td>\n",
       "      <td>24638.792969</td>\n",
       "      <td>16896.896484</td>\n",
       "    </tr>\n",
       "    <tr>\n",
       "      <th>2</th>\n",
       "      <td>826.923584</td>\n",
       "      <td>26747.314453</td>\n",
       "      <td>17363.390625</td>\n",
       "    </tr>\n",
       "    <tr>\n",
       "      <th>3</th>\n",
       "      <td>1492.193726</td>\n",
       "      <td>26514.935547</td>\n",
       "      <td>19381.691406</td>\n",
       "    </tr>\n",
       "    <tr>\n",
       "      <th>4</th>\n",
       "      <td>839.730957</td>\n",
       "      <td>26543.013672</td>\n",
       "      <td>15552.993164</td>\n",
       "    </tr>\n",
       "    <tr>\n",
       "      <th>5</th>\n",
       "      <td>267.409637</td>\n",
       "      <td>26475.843750</td>\n",
       "      <td>15855.078125</td>\n",
       "    </tr>\n",
       "    <tr>\n",
       "      <th>6</th>\n",
       "      <td>963.795166</td>\n",
       "      <td>26495.972656</td>\n",
       "      <td>17794.994141</td>\n",
       "    </tr>\n",
       "    <tr>\n",
       "      <th>7</th>\n",
       "      <td>1171.580200</td>\n",
       "      <td>26447.220703</td>\n",
       "      <td>18336.576172</td>\n",
       "    </tr>\n",
       "    <tr>\n",
       "      <th>8</th>\n",
       "      <td>74993.562500</td>\n",
       "      <td>24189.980469</td>\n",
       "      <td>16774.009766</td>\n",
       "    </tr>\n",
       "    <tr>\n",
       "      <th>9</th>\n",
       "      <td>1632.506470</td>\n",
       "      <td>25474.320312</td>\n",
       "      <td>18378.683594</td>\n",
       "    </tr>\n",
       "  </tbody>\n",
       "</table>\n",
       "</div>"
      ],
      "text/plain": [
       "              x             y             z\n",
       "0    900.425293  26286.689453  18321.949219\n",
       "1    181.120392  24638.792969  16896.896484\n",
       "2    826.923584  26747.314453  17363.390625\n",
       "3   1492.193726  26514.935547  19381.691406\n",
       "4    839.730957  26543.013672  15552.993164\n",
       "5    267.409637  26475.843750  15855.078125\n",
       "6    963.795166  26495.972656  17794.994141\n",
       "7   1171.580200  26447.220703  18336.576172\n",
       "8  74993.562500  24189.980469  16774.009766\n",
       "9   1632.506470  25474.320312  18378.683594"
      ]
     },
     "execution_count": 4,
     "metadata": {},
     "output_type": "execute_result"
    }
   ],
   "source": [
    "##reading the galaxyy data(target)\n",
    "\n",
    "\n",
    "import h5py\n",
    "import numpy as np\n",
    "import pandas as pd\n",
    "f = h5py.File('groups_135.Subhalo.SubhaloPos.hdf5' , 'r') #data includes galaxy position in simulation box for 135th snapshot\n",
    "head_subhalo = f['Subhalo']\n",
    "data_subhalo = np.array(head_subhalo['SubhaloPos'])\n",
    "print(data_subhalo.shape)\n",
    "position = pd.DataFrame(data_subhalo)\n",
    "position.columns = ['x' , 'y' , 'z']\n",
    "position.head(10)"
   ]
  },
  {
   "cell_type": "code",
   "execution_count": 5,
   "metadata": {},
   "outputs": [
    {
     "data": {
      "text/html": [
       "<div>\n",
       "<style scoped>\n",
       "    .dataframe tbody tr th:only-of-type {\n",
       "        vertical-align: middle;\n",
       "    }\n",
       "\n",
       "    .dataframe tbody tr th {\n",
       "        vertical-align: top;\n",
       "    }\n",
       "\n",
       "    .dataframe thead th {\n",
       "        text-align: right;\n",
       "    }\n",
       "</style>\n",
       "<table border=\"1\" class=\"dataframe\">\n",
       "  <thead>\n",
       "    <tr style=\"text-align: right;\">\n",
       "      <th></th>\n",
       "      <th>x</th>\n",
       "      <th>y</th>\n",
       "      <th>z</th>\n",
       "      <th>x_b</th>\n",
       "      <th>y_b</th>\n",
       "      <th>z_b</th>\n",
       "      <th>c</th>\n",
       "    </tr>\n",
       "  </thead>\n",
       "  <tbody>\n",
       "    <tr>\n",
       "      <th>0</th>\n",
       "      <td>900.425293</td>\n",
       "      <td>26286.689453</td>\n",
       "      <td>18321.949219</td>\n",
       "      <td>1</td>\n",
       "      <td>35</td>\n",
       "      <td>24</td>\n",
       "      <td>1</td>\n",
       "    </tr>\n",
       "    <tr>\n",
       "      <th>1</th>\n",
       "      <td>181.120392</td>\n",
       "      <td>24638.792969</td>\n",
       "      <td>16896.896484</td>\n",
       "      <td>0</td>\n",
       "      <td>32</td>\n",
       "      <td>22</td>\n",
       "      <td>1</td>\n",
       "    </tr>\n",
       "    <tr>\n",
       "      <th>2</th>\n",
       "      <td>826.923584</td>\n",
       "      <td>26747.314453</td>\n",
       "      <td>17363.390625</td>\n",
       "      <td>1</td>\n",
       "      <td>35</td>\n",
       "      <td>23</td>\n",
       "      <td>1</td>\n",
       "    </tr>\n",
       "    <tr>\n",
       "      <th>3</th>\n",
       "      <td>1492.193726</td>\n",
       "      <td>26514.935547</td>\n",
       "      <td>19381.691406</td>\n",
       "      <td>1</td>\n",
       "      <td>35</td>\n",
       "      <td>25</td>\n",
       "      <td>1</td>\n",
       "    </tr>\n",
       "    <tr>\n",
       "      <th>4</th>\n",
       "      <td>839.730957</td>\n",
       "      <td>26543.013672</td>\n",
       "      <td>15552.993164</td>\n",
       "      <td>1</td>\n",
       "      <td>35</td>\n",
       "      <td>20</td>\n",
       "      <td>1</td>\n",
       "    </tr>\n",
       "    <tr>\n",
       "      <th>5</th>\n",
       "      <td>267.409637</td>\n",
       "      <td>26475.843750</td>\n",
       "      <td>15855.078125</td>\n",
       "      <td>0</td>\n",
       "      <td>35</td>\n",
       "      <td>21</td>\n",
       "      <td>1</td>\n",
       "    </tr>\n",
       "    <tr>\n",
       "      <th>6</th>\n",
       "      <td>963.795166</td>\n",
       "      <td>26495.972656</td>\n",
       "      <td>17794.994141</td>\n",
       "      <td>1</td>\n",
       "      <td>35</td>\n",
       "      <td>23</td>\n",
       "      <td>1</td>\n",
       "    </tr>\n",
       "    <tr>\n",
       "      <th>7</th>\n",
       "      <td>1171.580200</td>\n",
       "      <td>26447.220703</td>\n",
       "      <td>18336.576172</td>\n",
       "      <td>1</td>\n",
       "      <td>35</td>\n",
       "      <td>24</td>\n",
       "      <td>1</td>\n",
       "    </tr>\n",
       "    <tr>\n",
       "      <th>8</th>\n",
       "      <td>74993.562500</td>\n",
       "      <td>24189.980469</td>\n",
       "      <td>16774.009766</td>\n",
       "      <td>99</td>\n",
       "      <td>32</td>\n",
       "      <td>22</td>\n",
       "      <td>1</td>\n",
       "    </tr>\n",
       "    <tr>\n",
       "      <th>9</th>\n",
       "      <td>1632.506470</td>\n",
       "      <td>25474.320312</td>\n",
       "      <td>18378.683594</td>\n",
       "      <td>2</td>\n",
       "      <td>33</td>\n",
       "      <td>24</td>\n",
       "      <td>1</td>\n",
       "    </tr>\n",
       "  </tbody>\n",
       "</table>\n",
       "</div>"
      ],
      "text/plain": [
       "              x             y             z  x_b  y_b  z_b  c\n",
       "0    900.425293  26286.689453  18321.949219    1   35   24  1\n",
       "1    181.120392  24638.792969  16896.896484    0   32   22  1\n",
       "2    826.923584  26747.314453  17363.390625    1   35   23  1\n",
       "3   1492.193726  26514.935547  19381.691406    1   35   25  1\n",
       "4    839.730957  26543.013672  15552.993164    1   35   20  1\n",
       "5    267.409637  26475.843750  15855.078125    0   35   21  1\n",
       "6    963.795166  26495.972656  17794.994141    1   35   23  1\n",
       "7   1171.580200  26447.220703  18336.576172    1   35   24  1\n",
       "8  74993.562500  24189.980469  16774.009766   99   32   22  1\n",
       "9   1632.506470  25474.320312  18378.683594    2   33   24  1"
      ]
     },
     "execution_count": 5,
     "metadata": {},
     "output_type": "execute_result"
    }
   ],
   "source": [
    "##making sub-cubes\n",
    "\n",
    "def process(position):\n",
    "    position['x_b'] = np.floor(position['x']/(75000/100))\n",
    "    position['y_b'] = np.floor(position['y']/(75000/100))\n",
    "    position['z_b'] = np.floor(position['z']/(75000/100))\n",
    "    position['x_b'] = position['x_b'].astype(int)\n",
    "    position['y_b'] = position['y_b'].astype(int)\n",
    "    position['z_b'] = position['z_b'].astype(int)\n",
    "    \n",
    "    \n",
    "    return position\n",
    "    \n",
    "position = process(position)\n",
    "position['c'] = 1\n",
    "position.head(10)"
   ]
  },
  {
   "cell_type": "code",
   "execution_count": 6,
   "metadata": {},
   "outputs": [
    {
     "name": "stdout",
     "output_type": "stream",
     "text": [
      "(121209, 7)\n",
      "(73908, 4)\n"
     ]
    }
   ],
   "source": [
    "counts = position.groupby(['x_b' , 'y_b' , 'z_b'])['c'].count().reset_index(name = \"count\")\n",
    "counts.head(180)\n",
    "print(position.shape)\n",
    "print(counts.shape)"
   ]
  },
  {
   "cell_type": "code",
   "execution_count": 7,
   "metadata": {},
   "outputs": [
    {
     "name": "stdout",
     "output_type": "stream",
     "text": [
      "(100, 100, 100)\n",
      "[[[0. 0. 0. ... 0. 0. 0.]\n",
      "  [0. 0. 0. ... 0. 0. 0.]\n",
      "  [0. 0. 0. ... 0. 0. 0.]\n",
      "  ...\n",
      "  [0. 0. 0. ... 0. 0. 0.]\n",
      "  [0. 0. 0. ... 0. 0. 0.]\n",
      "  [0. 0. 0. ... 0. 0. 0.]]\n",
      "\n",
      " [[0. 0. 0. ... 0. 0. 0.]\n",
      "  [0. 0. 0. ... 0. 0. 0.]\n",
      "  [0. 0. 0. ... 0. 0. 0.]\n",
      "  ...\n",
      "  [0. 0. 0. ... 0. 0. 0.]\n",
      "  [0. 0. 0. ... 0. 0. 0.]\n",
      "  [0. 0. 0. ... 0. 0. 0.]]\n",
      "\n",
      " [[0. 0. 0. ... 0. 0. 0.]\n",
      "  [0. 0. 0. ... 0. 0. 0.]\n",
      "  [0. 0. 0. ... 0. 0. 0.]\n",
      "  ...\n",
      "  [0. 0. 0. ... 0. 0. 0.]\n",
      "  [0. 0. 0. ... 0. 0. 0.]\n",
      "  [0. 0. 0. ... 0. 0. 0.]]\n",
      "\n",
      " ...\n",
      "\n",
      " [[0. 0. 0. ... 0. 0. 0.]\n",
      "  [0. 0. 0. ... 0. 0. 0.]\n",
      "  [0. 0. 0. ... 0. 0. 0.]\n",
      "  ...\n",
      "  [0. 0. 0. ... 0. 0. 0.]\n",
      "  [0. 0. 0. ... 0. 0. 0.]\n",
      "  [0. 0. 0. ... 0. 0. 0.]]\n",
      "\n",
      " [[0. 0. 0. ... 0. 0. 0.]\n",
      "  [0. 0. 0. ... 0. 0. 0.]\n",
      "  [0. 0. 0. ... 0. 0. 0.]\n",
      "  ...\n",
      "  [0. 0. 0. ... 0. 0. 0.]\n",
      "  [0. 0. 0. ... 0. 0. 0.]\n",
      "  [0. 0. 0. ... 0. 0. 0.]]\n",
      "\n",
      " [[0. 0. 0. ... 0. 0. 0.]\n",
      "  [0. 0. 0. ... 0. 0. 0.]\n",
      "  [0. 0. 0. ... 0. 0. 0.]\n",
      "  ...\n",
      "  [0. 0. 0. ... 0. 0. 0.]\n",
      "  [0. 0. 0. ... 0. 0. 0.]\n",
      "  [0. 0. 0. ... 0. 0. 0.]]]\n"
     ]
    }
   ],
   "source": [
    "##making an array that shows the number of the galaxies in each sub-cube\n",
    "\n",
    "def dataframe_to_array(data , shape):\n",
    "    ids = np.ravel_multi_index(data[['x_b' , 'y_b' , 'z_b']].values.T , shape)\n",
    "    val = data['count'].values\n",
    "    return np.bincount(ids , val , minlength = np.prod(shape)).reshape(shape)\n",
    "arr_subhalo = dataframe_to_array(counts , (100,100,100))\n",
    "\n",
    "print(arr_subhalo.shape)\n",
    "print(arr_subhalo)\n"
   ]
  },
  {
   "cell_type": "code",
   "execution_count": 8,
   "metadata": {},
   "outputs": [
    {
     "name": "stdout",
     "output_type": "stream",
     "text": [
      "73908\n"
     ]
    },
    {
     "data": {
      "text/plain": [
       "(100, 100, 100)"
      ]
     },
     "execution_count": 8,
     "metadata": {},
     "output_type": "execute_result"
    }
   ],
   "source": [
    "##making a binary array that shows if a sub-cube is empty or not\n",
    "\n",
    "\n",
    "c=0\n",
    "Bin_arr= np.zeros((100,100,100))\n",
    "for i in range(100):\n",
    "    for j in range(100):\n",
    "        for k in range(100):\n",
    "            if arr_subhalo[i,j,k] >0 :\n",
    "                Bin_arr [i,j,k] = 1\n",
    "                c+=1\n",
    "            if arr_subhalo[i,j,k] ==0 :\n",
    "                Bin_arr [i,j,k] = 0\n",
    "            \n",
    "        \n",
    "print(c)\n",
    "Bin_arr.shape"
   ]
  },
  {
   "cell_type": "code",
   "execution_count": 9,
   "metadata": {},
   "outputs": [
    {
     "name": "stdout",
     "output_type": "stream",
     "text": [
      "(30, 30, 30)\n",
      "[[[0. 0. 0. ... 0. 0. 0.]\n",
      "  [0. 0. 0. ... 0. 0. 0.]\n",
      "  [0. 0. 0. ... 0. 0. 0.]\n",
      "  ...\n",
      "  [0. 0. 0. ... 0. 0. 0.]\n",
      "  [1. 0. 0. ... 0. 1. 1.]\n",
      "  [0. 1. 0. ... 0. 1. 1.]]\n",
      "\n",
      " [[0. 0. 0. ... 0. 0. 0.]\n",
      "  [0. 0. 0. ... 0. 0. 0.]\n",
      "  [0. 0. 0. ... 0. 0. 0.]\n",
      "  ...\n",
      "  [0. 0. 1. ... 0. 0. 1.]\n",
      "  [0. 0. 0. ... 0. 0. 1.]\n",
      "  [0. 0. 0. ... 0. 0. 1.]]\n",
      "\n",
      " [[0. 0. 0. ... 0. 0. 0.]\n",
      "  [0. 0. 0. ... 0. 0. 0.]\n",
      "  [0. 0. 0. ... 0. 0. 0.]\n",
      "  ...\n",
      "  [0. 0. 0. ... 0. 0. 0.]\n",
      "  [0. 0. 0. ... 0. 1. 0.]\n",
      "  [0. 0. 0. ... 0. 1. 0.]]\n",
      "\n",
      " ...\n",
      "\n",
      " [[0. 1. 0. ... 1. 1. 0.]\n",
      "  [0. 0. 0. ... 0. 0. 1.]\n",
      "  [0. 0. 0. ... 0. 0. 0.]\n",
      "  ...\n",
      "  [1. 0. 0. ... 0. 1. 0.]\n",
      "  [1. 0. 1. ... 0. 0. 0.]\n",
      "  [0. 0. 0. ... 0. 0. 0.]]\n",
      "\n",
      " [[0. 1. 0. ... 0. 1. 0.]\n",
      "  [0. 0. 0. ... 0. 1. 1.]\n",
      "  [0. 0. 0. ... 0. 0. 0.]\n",
      "  ...\n",
      "  [0. 0. 0. ... 1. 0. 0.]\n",
      "  [0. 0. 0. ... 1. 0. 0.]\n",
      "  [0. 0. 0. ... 1. 0. 0.]]\n",
      "\n",
      " [[0. 0. 0. ... 0. 0. 0.]\n",
      "  [0. 1. 0. ... 0. 0. 1.]\n",
      "  [0. 0. 0. ... 0. 0. 1.]\n",
      "  ...\n",
      "  [0. 0. 0. ... 0. 0. 0.]\n",
      "  [0. 0. 0. ... 0. 1. 0.]\n",
      "  [0. 0. 0. ... 1. 0. 0.]]]\n"
     ]
    }
   ],
   "source": [
    "##reduce the size of the box(temp)\n",
    "\n",
    "sBin_arr = Bin_arr[0:30, 0:30, 0:30]\n",
    "\n",
    "print(sBin_arr.shape)\n",
    "print(sBin_arr)"
   ]
  },
  {
   "cell_type": "code",
   "execution_count": 10,
   "metadata": {},
   "outputs": [
    {
     "name": "stdout",
     "output_type": "stream",
     "text": [
      "F:\\data\n"
     ]
    }
   ],
   "source": [
    "cd \"F:\\data\"\n"
   ]
  },
  {
   "cell_type": "code",
   "execution_count": 11,
   "metadata": {},
   "outputs": [
    {
     "name": "stdout",
     "output_type": "stream",
     "text": [
      "(100, 100, 100)\n",
      "7.0\n"
     ]
    }
   ],
   "source": [
    "##reading the dark matter data(something like arr_subhalo)\n",
    "\n",
    "import h5py\n",
    "import numpy as np\n",
    "import pandas as pd\n",
    "f = h5py.File('data_100.100.h5' , 'r') #data includes galaxy position in simulation box for 135th snapshot\n",
    "dm_arr = f['dm_arr']\n",
    "print(dm_arr.shape)\n",
    "print(dm_arr[0][0][2])\n"
   ]
  },
  {
   "cell_type": "code",
   "execution_count": 12,
   "metadata": {},
   "outputs": [
    {
     "name": "stdout",
     "output_type": "stream",
     "text": [
      "(30, 30, 30)\n",
      "[[[4.000e+00 5.000e+00 7.000e+00 ... 3.000e+00 6.000e+00 1.000e+01]\n",
      "  [7.000e+00 7.000e+00 1.100e+01 ... 5.000e+00 6.000e+00 9.000e+00]\n",
      "  [4.000e+00 4.000e+00 7.000e+00 ... 6.000e+00 1.400e+01 7.000e+00]\n",
      "  ...\n",
      "  [3.200e+01 2.800e+01 7.000e+00 ... 8.600e+01 9.700e+01 5.330e+02]\n",
      "  [2.530e+02 3.900e+01 1.100e+01 ... 1.600e+01 3.830e+02 1.163e+03]\n",
      "  [7.800e+01 5.850e+02 1.900e+01 ... 1.570e+02 7.890e+02 4.574e+03]]\n",
      "\n",
      " [[6.000e+00 6.000e+00 7.000e+00 ... 2.600e+01 2.400e+01 2.600e+01]\n",
      "  [9.000e+00 4.000e+00 5.000e+00 ... 6.000e+00 4.000e+00 7.000e+00]\n",
      "  [7.000e+00 1.100e+01 7.000e+00 ... 8.000e+00 5.000e+00 6.000e+00]\n",
      "  ...\n",
      "  [2.500e+01 4.300e+01 8.100e+01 ... 8.200e+01 5.200e+01 3.484e+03]\n",
      "  [2.400e+01 1.000e+01 1.300e+01 ... 2.400e+01 2.160e+02 1.756e+03]\n",
      "  [2.300e+01 1.500e+01 6.700e+01 ... 6.200e+01 8.140e+02 1.462e+03]]\n",
      "\n",
      " [[6.000e+00 3.000e+00 5.000e+00 ... 2.800e+01 2.200e+01 3.700e+01]\n",
      "  [4.000e+00 5.000e+00 1.000e+01 ... 3.000e+01 4.300e+01 3.300e+01]\n",
      "  [6.000e+00 5.000e+00 9.000e+00 ... 7.000e+00 1.000e+01 2.700e+01]\n",
      "  ...\n",
      "  [2.500e+01 1.500e+01 1.000e+01 ... 2.500e+01 1.080e+02 3.960e+02]\n",
      "  [1.100e+01 1.100e+01 1.000e+01 ... 8.300e+01 1.365e+03 3.660e+02]\n",
      "  [3.000e+01 1.100e+01 7.000e+00 ... 1.850e+02 9.620e+02 3.120e+02]]\n",
      "\n",
      " ...\n",
      "\n",
      " [[9.000e+00 4.020e+02 1.700e+01 ... 2.990e+02 1.646e+03 5.770e+02]\n",
      "  [1.000e+01 3.200e+01 1.300e+01 ... 1.000e+02 2.660e+02 4.531e+03]\n",
      "  [3.600e+01 2.000e+01 1.300e+01 ... 3.700e+01 4.800e+01 2.320e+02]\n",
      "  ...\n",
      "  [4.180e+02 9.600e+01 1.450e+02 ... 1.320e+02 1.550e+02 8.000e+00]\n",
      "  [1.110e+02 1.120e+02 1.470e+02 ... 3.600e+01 8.000e+00 1.100e+01]\n",
      "  [7.200e+01 1.140e+02 6.300e+01 ... 3.000e+00 7.000e+00 6.000e+00]]\n",
      "\n",
      " [[1.800e+01 1.700e+02 1.600e+01 ... 2.680e+02 3.913e+03 2.240e+02]\n",
      "  [1.500e+01 9.800e+01 1.800e+01 ... 1.090e+02 6.860e+02 8.940e+02]\n",
      "  [4.000e+01 4.700e+01 7.000e+00 ... 2.200e+01 2.200e+01 1.850e+02]\n",
      "  ...\n",
      "  [4.000e+00 3.000e+00 2.000e+00 ... 1.550e+02 3.090e+02 2.100e+01]\n",
      "  [4.000e+00 5.000e+00 5.000e+00 ... 3.510e+02 3.100e+01 1.200e+01]\n",
      "  [4.600e+01 3.100e+01 9.000e+00 ... 1.940e+02 3.900e+01 4.500e+01]]\n",
      "\n",
      " [[3.000e+01 9.000e+00 1.300e+01 ... 5.800e+01 2.140e+02 5.400e+01]\n",
      "  [2.700e+01 4.500e+01 1.100e+01 ... 2.790e+02 3.270e+02 5.120e+02]\n",
      "  [2.500e+01 6.700e+01 8.000e+00 ... 4.600e+01 9.600e+01 3.200e+02]\n",
      "  ...\n",
      "  [8.000e+00 7.000e+00 7.000e+00 ... 4.200e+01 3.800e+01 2.400e+01]\n",
      "  [5.000e+00 3.000e+00 7.000e+00 ... 8.600e+01 2.220e+02 1.230e+02]\n",
      "  [4.000e+00 2.000e+00 9.000e+00 ... 1.272e+03 5.800e+01 7.400e+01]]]\n"
     ]
    }
   ],
   "source": [
    "##reduce the size of the box(temp)\n",
    "\n",
    "sdm_arr = dm_arr[0:30, 0:30, 0:30]\n",
    "\n",
    "print(sdm_arr.shape)\n",
    "print(sdm_arr)"
   ]
  },
  {
   "cell_type": "code",
   "execution_count": 13,
   "metadata": {},
   "outputs": [],
   "source": [
    "##making the feature matrix and the target matrix:  X:the N-body simulation data, Y:the hydrodynamic simulation data\n",
    "\n",
    "X = np.zeros((23*23*23,8,8,8))\n",
    "Y = np.zeros((23*23*23,1))\n",
    "\n",
    "l = 0\n",
    "for i in range(4,27):\n",
    "    for j in range(4,27):\n",
    "        for k in range(4,27):\n",
    "            X [l,0:8,0:8,0:8] = sdm_arr[i-4:i +4 , j-4: j +4 , k-4:k+4]\n",
    "            Y [l,0] = sBin_arr[i , j , k]\n",
    "            l +=1\n",
    "                \n",
    "#print(X)"
   ]
  },
  {
   "cell_type": "code",
   "execution_count": 14,
   "metadata": {},
   "outputs": [],
   "source": [
    "from sklearn.model_selection import train_test_split\n",
    "X_train , X_test , Y_train , Y_test = train_test_split(X,Y, random_state = 0)"
   ]
  },
  {
   "cell_type": "code",
   "execution_count": 15,
   "metadata": {},
   "outputs": [
    {
     "name": "stdout",
     "output_type": "stream",
     "text": [
      "(100, 100, 100)\n",
      "(100, 100, 100)\n",
      "(9125, 8, 8, 8)\n",
      "(9125, 1)\n",
      "(3042, 8, 8, 8)\n",
      "(3042, 1)\n"
     ]
    }
   ],
   "source": [
    "print(Bin_arr.shape)\n",
    "print(dm_arr.shape)\n",
    "print(X_train.shape)\n",
    "print(Y_train.shape)\n",
    "print(X_test.shape)\n",
    "print(Y_test.shape)"
   ]
  },
  {
   "cell_type": "code",
   "execution_count": 16,
   "metadata": {},
   "outputs": [
    {
     "name": "stdout",
     "output_type": "stream",
     "text": [
      "_________________________________________________________________\n",
      "Layer (type)                 Output Shape              Param #   \n",
      "=================================================================\n",
      "conv3d_4 (Conv3D)            (None, 8, 8, 8, 32)       320       \n",
      "_________________________________________________________________\n",
      "conv3d_5 (Conv3D)            (None, 8, 8, 8, 32)       9248      \n",
      "_________________________________________________________________\n",
      "max_pooling3d_2 (MaxPooling3 (None, 4, 4, 8, 32)       0         \n",
      "_________________________________________________________________\n",
      "dropout_2 (Dropout)          (None, 4, 4, 8, 32)       0         \n",
      "_________________________________________________________________\n",
      "conv3d_6 (Conv3D)            (None, 4, 4, 8, 64)       18496     \n",
      "_________________________________________________________________\n",
      "conv3d_7 (Conv3D)            (None, 4, 4, 8, 64)       36928     \n",
      "_________________________________________________________________\n",
      "max_pooling3d_3 (MaxPooling3 (None, 2, 2, 8, 64)       0         \n",
      "_________________________________________________________________\n",
      "dropout_3 (Dropout)          (None, 2, 2, 8, 64)       0         \n",
      "_________________________________________________________________\n",
      "flatten_1 (Flatten)          (None, 2048)              0         \n",
      "_________________________________________________________________\n",
      "dense_3 (Dense)              (None, 120)               245880    \n",
      "_________________________________________________________________\n",
      "dense_4 (Dense)              (None, 60)                7260      \n",
      "_________________________________________________________________\n",
      "dense_5 (Dense)              (None, 2)                 122       \n",
      "=================================================================\n",
      "Total params: 318,254\n",
      "Trainable params: 318,254\n",
      "Non-trainable params: 0\n",
      "_________________________________________________________________\n"
     ]
    }
   ],
   "source": [
    "##train a CNN with activation function=sigmoid, optimizer=adam, loss=sparse_categorical_crossentropy, batch size=100 and 10 epochs.\n",
    "\n",
    "import tensorflow as tf\n",
    "from tensorflow import keras\n",
    "\n",
    "new_model = keras.models.Sequential()\n",
    "\n",
    "new_model.add(keras.layers.Conv3D(32, (3,3,1)  , activation = 'relu' , padding = 'same' , input_shape=(8,8,8,1)))\n",
    "new_model.add(keras.layers.Conv3D(32, (3,3,1) , padding = 'same' , activation = 'relu' ))\n",
    "new_model.add(keras.layers.MaxPooling3D((2,2,1) , padding = 'same'))\n",
    "new_model.add(keras.layers.Dropout(0.25))\n",
    "new_model.add(keras.layers.Conv3D(64, (3,3,1) , padding = 'same' , activation = 'relu' ))\n",
    "new_model.add(keras.layers.Conv3D(64, (3,3,1) , padding = 'same' , activation = 'relu' ))\n",
    "new_model.add(keras.layers.MaxPooling3D((2,2,1) , padding = 'same'))\n",
    "new_model.add(keras.layers.Dropout(0.25))\n",
    "new_model.add(keras.layers.Flatten())\n",
    "\n",
    "new_model.add(keras.layers.Dense(120 , activation = 'relu'))\n",
    "new_model.add(keras.layers.Dense(60 , activation = 'relu'))\n",
    "new_model.add(keras.layers.Dense(2, activation = 'sigmoid'))\n",
    "              \n",
    "new_model.compile(optimizer = 'adam' , loss = 'sparse_categorical_crossentropy' , metrics = ['accuracy' ])\n",
    "\n",
    "new_model.summary()"
   ]
  },
  {
   "cell_type": "code",
   "execution_count": 17,
   "metadata": {},
   "outputs": [],
   "source": [
    "X_train = X_train.reshape(-1,8,8,8,1)\n",
    "X_test = X_test.reshape(-1,8,8,8,1)"
   ]
  },
  {
   "cell_type": "code",
   "execution_count": 18,
   "metadata": {},
   "outputs": [
    {
     "name": "stdout",
     "output_type": "stream",
     "text": [
      "Train on 9125 samples, validate on 3042 samples\n",
      "Epoch 1/10\n",
      "9125/9125 [==============================] - 71s 8ms/sample - loss: 1.5995 - acc: 0.8990 - val_loss: 1.4942 - val_acc: 0.9073\n",
      "Epoch 2/10\n",
      "9125/9125 [==============================] - 72s 8ms/sample - loss: 1.6021 - acc: 0.9006 - val_loss: 1.4942 - val_acc: 0.9073\n",
      "Epoch 3/10\n",
      "9125/9125 [==============================] - 69s 8ms/sample - loss: 1.6021 - acc: 0.9006 - val_loss: 1.4942 - val_acc: 0.9073\n",
      "Epoch 4/10\n",
      "9125/9125 [==============================] - 65s 7ms/sample - loss: 1.6021 - acc: 0.9006 - val_loss: 1.4942 - val_acc: 0.9073\n",
      "Epoch 5/10\n",
      "9125/9125 [==============================] - 64s 7ms/sample - loss: 1.6021 - acc: 0.9006 - val_loss: 1.4942 - val_acc: 0.9073\n",
      "Epoch 6/10\n",
      "9125/9125 [==============================] - 66s 7ms/sample - loss: 1.6021 - acc: 0.9006 - val_loss: 1.4942 - val_acc: 0.9073\n",
      "Epoch 7/10\n",
      "9125/9125 [==============================] - 61s 7ms/sample - loss: 1.6021 - acc: 0.9006 - val_loss: 1.4942 - val_acc: 0.9073\n",
      "Epoch 8/10\n",
      "9125/9125 [==============================] - 63s 7ms/sample - loss: 1.6021 - acc: 0.9006 - val_loss: 1.4942 - val_acc: 0.9073\n",
      "Epoch 9/10\n",
      "9125/9125 [==============================] - 62s 7ms/sample - loss: 1.6021 - acc: 0.9006 - val_loss: 1.4942 - val_acc: 0.9073\n",
      "Epoch 10/10\n",
      "9125/9125 [==============================] - 68s 8ms/sample - loss: 1.6021 - acc: 0.9006 - val_loss: 1.4942 - val_acc: 0.9073\n"
     ]
    }
   ],
   "source": [
    "history = new_model.fit(X_train , Y_train, epochs = 10 , batch_size = 100, validation_data = (X_test,Y_test))"
   ]
  },
  {
   "cell_type": "code",
   "execution_count": 20,
   "metadata": {},
   "outputs": [
    {
     "name": "stdout",
     "output_type": "stream",
     "text": [
      "[[2760    0]\n",
      " [ 282    0]]\n"
     ]
    }
   ],
   "source": [
    "from sklearn.metrics import confusion_matrix\n",
    "\n",
    "Y_predicted = np.argmax( new_model.predict(X_test ), axis=1 )\n",
    "cm = confusion_matrix(Y_test, Y_predicted)\n",
    "print(cm)"
   ]
  },
  {
   "cell_type": "code",
   "execution_count": 18,
   "metadata": {},
   "outputs": [
    {
     "name": "stdout",
     "output_type": "stream",
     "text": [
      "              precision    recall  f1-score   support\n",
      "\n",
      "         0.0       0.87      0.03      0.06      2794\n",
      "         1.0       0.08      0.95      0.15       248\n",
      "\n",
      "    accuracy                           0.11      3042\n",
      "   macro avg       0.48      0.49      0.10      3042\n",
      "weighted avg       0.81      0.11      0.07      3042\n",
      "\n"
     ]
    }
   ],
   "source": [
    "from sklearn.metrics import classification_report\n",
    "Y_temp=Y[:len(Y_predicted)]\n",
    "clf_report = classification_report(Y_temp, Y_predicted)\n",
    "print(clf_report)"
   ]
  },
  {
   "cell_type": "code",
   "execution_count": 19,
   "metadata": {},
   "outputs": [
    {
     "name": "stdout",
     "output_type": "stream",
     "text": [
      "_________________________________________________________________\n",
      "Layer (type)                 Output Shape              Param #   \n",
      "=================================================================\n",
      "conv3d_4 (Conv3D)            (None, 8, 8, 8, 32)       320       \n",
      "_________________________________________________________________\n",
      "conv3d_5 (Conv3D)            (None, 8, 8, 8, 32)       9248      \n",
      "_________________________________________________________________\n",
      "max_pooling3d_2 (MaxPooling3 (None, 4, 4, 8, 32)       0         \n",
      "_________________________________________________________________\n",
      "dropout_2 (Dropout)          (None, 4, 4, 8, 32)       0         \n",
      "_________________________________________________________________\n",
      "conv3d_6 (Conv3D)            (None, 4, 4, 8, 64)       18496     \n",
      "_________________________________________________________________\n",
      "conv3d_7 (Conv3D)            (None, 4, 4, 8, 64)       36928     \n",
      "_________________________________________________________________\n",
      "max_pooling3d_3 (MaxPooling3 (None, 2, 2, 8, 64)       0         \n",
      "_________________________________________________________________\n",
      "dropout_3 (Dropout)          (None, 2, 2, 8, 64)       0         \n",
      "_________________________________________________________________\n",
      "flatten_1 (Flatten)          (None, 2048)              0         \n",
      "_________________________________________________________________\n",
      "dense_3 (Dense)              (None, 120)               245880    \n",
      "_________________________________________________________________\n",
      "dense_4 (Dense)              (None, 60)                7260      \n",
      "_________________________________________________________________\n",
      "dense_5 (Dense)              (None, 2)                 122       \n",
      "=================================================================\n",
      "Total params: 318,254\n",
      "Trainable params: 318,254\n",
      "Non-trainable params: 0\n",
      "_________________________________________________________________\n"
     ]
    }
   ],
   "source": [
    "##train a CNN with activation function=relu, optimizer=adam, loss=mean squared error, batch size=100 and 10 epochs.\n",
    "\n",
    "import tensorflow as tf\n",
    "from tensorflow import keras\n",
    "\n",
    "new_model1 = keras.models.Sequential()\n",
    "\n",
    "new_model1.add(keras.layers.Conv3D(32, (3,3,1)  , activation = 'relu' , padding = 'same' , input_shape=(8,8,8,1)))\n",
    "new_model1.add(keras.layers.Conv3D(32, (3,3,1) , padding = 'same' , activation = 'relu' ))\n",
    "new_model1.add(keras.layers.MaxPooling3D((2,2,1) , padding = 'same'))\n",
    "new_model1.add(keras.layers.Dropout(0.25))\n",
    "new_model1.add(keras.layers.Conv3D(64, (3,3,1) , padding = 'same' , activation = 'relu' ))\n",
    "new_model1.add(keras.layers.Conv3D(64, (3,3,1) , padding = 'same' , activation = 'relu' ))\n",
    "new_model1.add(keras.layers.MaxPooling3D((2,2,1) , padding = 'same'))\n",
    "new_model1.add(keras.layers.Dropout(0.25))\n",
    "new_model1.add(keras.layers.Flatten())\n",
    "\n",
    "new_model1.add(keras.layers.Dense(120 , activation = 'relu'))\n",
    "new_model1.add(keras.layers.Dense(60 , activation = 'relu'))\n",
    "new_model1.add(keras.layers.Dense(2, activation = 'softmax'))\n",
    "              \n",
    "new_model1.compile(optimizer = 'adam' , loss = 'mean_squared_error' , metrics = ['accuracy' ])\n",
    "\n",
    "new_model1.summary()"
   ]
  },
  {
   "cell_type": "code",
   "execution_count": 20,
   "metadata": {},
   "outputs": [],
   "source": [
    "X_train = X_train.reshape(-1,8,8,8,1)\n",
    "X_test = X_test.reshape(-1,8,8,8,1)"
   ]
  },
  {
   "cell_type": "code",
   "execution_count": 21,
   "metadata": {},
   "outputs": [
    {
     "name": "stdout",
     "output_type": "stream",
     "text": [
      "Train on 9125 samples, validate on 3042 samples\n",
      "Epoch 1/10\n",
      "9125/9125 [==============================] - 53s 6ms/sample - loss: 0.4977 - acc: 0.7316 - val_loss: 0.5000 - val_acc: 1.0000\n",
      "Epoch 2/10\n",
      "9125/9125 [==============================] - 52s 6ms/sample - loss: 0.5000 - acc: 1.0000 - val_loss: 0.5000 - val_acc: 1.0000\n",
      "Epoch 3/10\n",
      "9125/9125 [==============================] - 53s 6ms/sample - loss: 0.5000 - acc: 1.0000 - val_loss: 0.5000 - val_acc: 1.0000\n",
      "Epoch 4/10\n",
      "9125/9125 [==============================] - 50s 5ms/sample - loss: 0.5000 - acc: 1.0000 - val_loss: 0.5000 - val_acc: 1.0000\n",
      "Epoch 5/10\n",
      "9125/9125 [==============================] - 51s 6ms/sample - loss: 0.5000 - acc: 1.0000 - val_loss: 0.5000 - val_acc: 1.0000\n",
      "Epoch 6/10\n",
      "9125/9125 [==============================] - 47s 5ms/sample - loss: 0.5000 - acc: 1.0000 - val_loss: 0.5000 - val_acc: 1.0000\n",
      "Epoch 7/10\n",
      "9125/9125 [==============================] - 50s 5ms/sample - loss: 0.5000 - acc: 1.0000 - val_loss: 0.5000 - val_acc: 1.0000\n",
      "Epoch 8/10\n",
      "9125/9125 [==============================] - 48s 5ms/sample - loss: 0.5000 - acc: 1.0000 - val_loss: 0.5000 - val_acc: 1.0000\n",
      "Epoch 9/10\n",
      "9125/9125 [==============================] - 51s 6ms/sample - loss: 0.5000 - acc: 1.0000 - val_loss: 0.5000 - val_acc: 1.0000\n",
      "Epoch 10/10\n",
      "9125/9125 [==============================] - 49s 5ms/sample - loss: 0.5000 - acc: 1.0000 - val_loss: 0.5000 - val_acc: 1.0000\n"
     ]
    }
   ],
   "source": [
    "history = new_model1.fit(X_train , Y_train, epochs = 10 , batch_size = 100, validation_data = (X_test,Y_test))"
   ]
  },
  {
   "cell_type": "code",
   "execution_count": 22,
   "metadata": {},
   "outputs": [
    {
     "name": "stdout",
     "output_type": "stream",
     "text": [
      "[[2760    0]\n",
      " [ 282    0]]\n"
     ]
    }
   ],
   "source": [
    "from sklearn.metrics import confusion_matrix\n",
    "\n",
    "Y_predicted = np.argmax( new_model1.predict(X_test ), axis=1 )\n",
    "cm = confusion_matrix(Y_test, Y_predicted)\n",
    "print(cm)"
   ]
  },
  {
   "cell_type": "code",
   "execution_count": 23,
   "metadata": {},
   "outputs": [
    {
     "name": "stdout",
     "output_type": "stream",
     "text": [
      "              precision    recall  f1-score   support\n",
      "\n",
      "         0.0       0.92      1.00      0.96      2794\n",
      "         1.0       0.00      0.00      0.00       248\n",
      "\n",
      "    accuracy                           0.92      3042\n",
      "   macro avg       0.46      0.50      0.48      3042\n",
      "weighted avg       0.84      0.92      0.88      3042\n",
      "\n"
     ]
    },
    {
     "name": "stderr",
     "output_type": "stream",
     "text": [
      "C:\\Users\\Acer\\Anaconda3\\lib\\site-packages\\sklearn\\metrics\\classification.py:1437: UndefinedMetricWarning: Precision and F-score are ill-defined and being set to 0.0 in labels with no predicted samples.\n",
      "  'precision', 'predicted', average, warn_for)\n"
     ]
    }
   ],
   "source": [
    "from sklearn.metrics import classification_report\n",
    "Y_temp=Y[:len(Y_predicted)]\n",
    "clf_report = classification_report(Y_temp, Y_predicted)\n",
    "print(clf_report)"
   ]
  },
  {
   "cell_type": "code",
   "execution_count": null,
   "metadata": {},
   "outputs": [],
   "source": []
  }
 ],
 "metadata": {
  "kernelspec": {
   "display_name": "Python 3",
   "language": "python",
   "name": "python3"
  },
  "language_info": {
   "codemirror_mode": {
    "name": "ipython",
    "version": 3
   },
   "file_extension": ".py",
   "mimetype": "text/x-python",
   "name": "python",
   "nbconvert_exporter": "python",
   "pygments_lexer": "ipython3",
   "version": "3.6.8"
  }
 },
 "nbformat": 4,
 "nbformat_minor": 2
}
